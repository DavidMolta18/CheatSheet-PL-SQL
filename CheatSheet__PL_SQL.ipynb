{
  "nbformat": 4,
  "nbformat_minor": 0,
  "metadata": {
    "colab": {
      "provenance": [],
      "toc_visible": true,
      "include_colab_link": true
    },
    "kernelspec": {
      "name": "python3",
      "display_name": "Python 3"
    },
    "language_info": {
      "name": "python"
    }
  },
  "cells": [
    {
      "cell_type": "markdown",
      "metadata": {
        "id": "view-in-github",
        "colab_type": "text"
      },
      "source": [
        "<a href=\"https://colab.research.google.com/github/DavidMolta18/CheatSheet-PL-SQL/blob/main/CheatSheet__PL_SQL.ipynb\" target=\"_parent\"><img src=\"https://colab.research.google.com/assets/colab-badge.svg\" alt=\"Open In Colab\"/></a>"
      ]
    },
    {
      "cell_type": "markdown",
      "source": [
        "#<center> **PL/SQL CHEAT-SHEET**</center>\n",
        "---\n",
        "\n",
        "##**1) Blocks description**\n",
        "\n",
        "\n",
        "\n",
        ">Each block in PL/SQL is divided in three sub-parts:\n",
        "\n",
        "* **Declarations**\n",
        "\n",
        ">This section has the keyword **DECLARE**.It is **NOT** a **MANDATORY SECTION** and it's used to define all the: Variables, cursors, subprograms and other elements that are going to be used in the program.\n",
        "\n",
        "* **Executable Commands**\n",
        "\n",
        ">In this section, we have all the executable commands.The keywords here are: **BEGIN** and **END** and it's a **MANDATORY SECTION**. It should have at least **ONE** line of code, which can be a NULL COMMAND to indicate that nothing is going to be executed\n",
        "\n",
        "* **Exception Handling** \n",
        "\n",
        ">In this section you have to use the keyword **EXCEPTION**, then you should input all the exceptions that are going to handle errors in the program.\n",
        "\n",
        "##**Block section examples**\n",
        "\n",
        "\n",
        "\n",
        "\n",
        "\n",
        "\n",
        "\n",
        "\n",
        "\n",
        "\n",
        "\n",
        "\n",
        "\n"
      ],
      "metadata": {
        "id": "pzDtw8bLOP5Q"
      }
    }
  ]
}